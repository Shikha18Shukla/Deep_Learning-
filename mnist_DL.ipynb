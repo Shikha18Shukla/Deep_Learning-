{
  "nbformat": 4,
  "nbformat_minor": 0,
  "metadata": {
    "colab": {
      "provenance": [],
      "authorship_tag": "ABX9TyMYZz8hixiwwBmZTvibTXGr",
      "include_colab_link": true
    },
    "kernelspec": {
      "name": "python3",
      "display_name": "Python 3"
    },
    "language_info": {
      "name": "python"
    }
  },
  "cells": [
    {
      "cell_type": "markdown",
      "metadata": {
        "id": "view-in-github",
        "colab_type": "text"
      },
      "source": [
        "<a href=\"https://colab.research.google.com/github/Shikha18Shukla/Deep_Learning-/blob/main/mnist_DL.ipynb\" target=\"_parent\"><img src=\"https://colab.research.google.com/assets/colab-badge.svg\" alt=\"Open In Colab\"/></a>"
      ]
    },
    {
      "cell_type": "markdown",
      "source": [
        "# Python program for implementation of digit recognization classification using CNN on minst datset\n"
      ],
      "metadata": {
        "id": "-ldfX6ls1VWG"
      }
    },
    {
      "cell_type": "code",
      "source": [
        "from keras.datasets import mnist\n",
        "from keras.models import Sequential\n",
        "from keras.layers import Dense, Flatten\n",
        "from keras.utils import to_categorical"
      ],
      "metadata": {
        "id": "jFg8E1Nlv4d0"
      },
      "execution_count": null,
      "outputs": []
    },
    {
      "cell_type": "code",
      "source": [
        "(x_train, y_train), (x_test, y_test) = mnist.load_data()\n",
        "x_train = x_train.astype('float32') / 255.0\n",
        "x_test = x_test.astype('float32') / 255.0\n",
        "y_train = to_categorical(y_train, 10)\n",
        "y_test = to_categorical(y_test, 10)"
      ],
      "metadata": {
        "id": "eXJysW_uv7p0"
      },
      "execution_count": null,
      "outputs": []
    },
    {
      "cell_type": "code",
      "source": [
        "model = Sequential([\n",
        "    Flatten(input_shape=(28, 28)),\n",
        "    Dense(128, activation='relu'),\n",
        "    Dense(10, activation='softmax')\n",
        "])"
      ],
      "metadata": {
        "id": "X2xzeU6Yv-tf"
      },
      "execution_count": null,
      "outputs": []
    },
    {
      "cell_type": "code",
      "source": [
        "model.compile(optimizer='adam', loss='categorical_crossentropy', metrics=['accuracy'])\n",
        "model.fit(x_train, y_train, epochs=10, batch_size=32, validation_split=0.1)"
      ],
      "metadata": {
        "colab": {
          "base_uri": "https://localhost:8080/"
        },
        "id": "IysT-_TswCQt",
        "outputId": "0d634ed5-f400-4574-e9cd-5e3a3321ccbe"
      },
      "execution_count": null,
      "outputs": [
        {
          "output_type": "stream",
          "name": "stdout",
          "text": [
            "Epoch 1/10\n",
            "\u001b[1m1688/1688\u001b[0m \u001b[32m━━━━━━━━━━━━━━━━━━━━\u001b[0m\u001b[37m\u001b[0m \u001b[1m9s\u001b[0m 5ms/step - accuracy: 0.8699 - loss: 0.4488 - val_accuracy: 0.9677 - val_loss: 0.1254\n",
            "Epoch 2/10\n",
            "\u001b[1m1688/1688\u001b[0m \u001b[32m━━━━━━━━━━━━━━━━━━━━\u001b[0m\u001b[37m\u001b[0m \u001b[1m8s\u001b[0m 4ms/step - accuracy: 0.9630 - loss: 0.1287 - val_accuracy: 0.9742 - val_loss: 0.0882\n",
            "Epoch 3/10\n",
            "\u001b[1m1688/1688\u001b[0m \u001b[32m━━━━━━━━━━━━━━━━━━━━\u001b[0m\u001b[37m\u001b[0m \u001b[1m7s\u001b[0m 4ms/step - accuracy: 0.9769 - loss: 0.0776 - val_accuracy: 0.9782 - val_loss: 0.0770\n",
            "Epoch 4/10\n",
            "\u001b[1m1688/1688\u001b[0m \u001b[32m━━━━━━━━━━━━━━━━━━━━\u001b[0m\u001b[37m\u001b[0m \u001b[1m8s\u001b[0m 4ms/step - accuracy: 0.9822 - loss: 0.0590 - val_accuracy: 0.9777 - val_loss: 0.0774\n",
            "Epoch 5/10\n",
            "\u001b[1m1688/1688\u001b[0m \u001b[32m━━━━━━━━━━━━━━━━━━━━\u001b[0m\u001b[37m\u001b[0m \u001b[1m6s\u001b[0m 4ms/step - accuracy: 0.9863 - loss: 0.0439 - val_accuracy: 0.9798 - val_loss: 0.0730\n",
            "Epoch 6/10\n",
            "\u001b[1m1688/1688\u001b[0m \u001b[32m━━━━━━━━━━━━━━━━━━━━\u001b[0m\u001b[37m\u001b[0m \u001b[1m8s\u001b[0m 4ms/step - accuracy: 0.9898 - loss: 0.0336 - val_accuracy: 0.9785 - val_loss: 0.0814\n",
            "Epoch 7/10\n",
            "\u001b[1m1688/1688\u001b[0m \u001b[32m━━━━━━━━━━━━━━━━━━━━\u001b[0m\u001b[37m\u001b[0m \u001b[1m8s\u001b[0m 4ms/step - accuracy: 0.9920 - loss: 0.0261 - val_accuracy: 0.9807 - val_loss: 0.0745\n",
            "Epoch 8/10\n",
            "\u001b[1m1688/1688\u001b[0m \u001b[32m━━━━━━━━━━━━━━━━━━━━\u001b[0m\u001b[37m\u001b[0m \u001b[1m9s\u001b[0m 4ms/step - accuracy: 0.9949 - loss: 0.0193 - val_accuracy: 0.9732 - val_loss: 0.1009\n",
            "Epoch 9/10\n",
            "\u001b[1m1688/1688\u001b[0m \u001b[32m━━━━━━━━━━━━━━━━━━━━\u001b[0m\u001b[37m\u001b[0m \u001b[1m8s\u001b[0m 5ms/step - accuracy: 0.9944 - loss: 0.0177 - val_accuracy: 0.9802 - val_loss: 0.0837\n",
            "Epoch 10/10\n",
            "\u001b[1m1688/1688\u001b[0m \u001b[32m━━━━━━━━━━━━━━━━━━━━\u001b[0m\u001b[37m\u001b[0m \u001b[1m6s\u001b[0m 4ms/step - accuracy: 0.9961 - loss: 0.0128 - val_accuracy: 0.9783 - val_loss: 0.0919\n"
          ]
        },
        {
          "output_type": "execute_result",
          "data": {
            "text/plain": [
              "<keras.src.callbacks.history.History at 0x7fae934bbe00>"
            ]
          },
          "metadata": {},
          "execution_count": 8
        }
      ]
    },
    {
      "cell_type": "code",
      "source": [
        "loss, accuracy = model.evaluate(x_test, y_test)\n",
        "print(f\"Test Accuracy: {accuracy:.4f}\")"
      ],
      "metadata": {
        "colab": {
          "base_uri": "https://localhost:8080/"
        },
        "id": "uk9pPeT1wZV2",
        "outputId": "560ba41e-85b3-47b0-bf64-93255f87a000"
      },
      "execution_count": null,
      "outputs": [
        {
          "output_type": "stream",
          "name": "stdout",
          "text": [
            "\u001b[1m313/313\u001b[0m \u001b[32m━━━━━━━━━━━━━━━━━━━━\u001b[0m\u001b[37m\u001b[0m \u001b[1m1s\u001b[0m 2ms/step - accuracy: 0.9723 - loss: 0.0944\n",
            "Test Accuracy: 0.9771\n"
          ]
        }
      ]
    },
    {
      "cell_type": "code",
      "source": [
        "\n",
        "\n",
        "import tensorflow as tf\n",
        "from tensorflow.keras.datasets import mnist\n",
        "from tensorflow.keras.utils import to_categorical\n",
        "from tensorflow.keras.models import Sequential\n",
        "from tensorflow.keras.layers import Dense, Flatten, Conv2D, MaxPooling2D, Dropout\n",
        "\n",
        "\n",
        "(x_train, y_train), (x_test, y_test) = mnist.load_data()\n",
        "\n",
        "\n",
        "x_train = x_train.astype(\"float32\") / 255.0\n",
        "x_test = x_test.astype(\"float32\") / 255.0\n",
        "\n",
        "\n",
        "x_train = x_train.reshape(-1, 28, 28, 1)\n",
        "x_test = x_test.reshape(-1, 28, 28, 1)\n",
        "\n",
        "\n",
        "y_train = to_categorical(y_train, 10)\n",
        "y_test = to_categorical(y_test, 10)\n",
        "\n",
        "#ANN MODEL\n",
        "ann = Sequential([\n",
        "    Flatten(input_shape=(28, 28, 1)),\n",
        "    Dense(128, activation='relu'),\n",
        "    Dense(64, activation='relu'),\n",
        "    Dense(10, activation='softmax')\n",
        "])\n",
        "\n",
        "ann.compile(optimizer='adam', loss='categorical_crossentropy', metrics=['accuracy'])\n",
        "\n",
        "# Train\n",
        "ann.fit(x_train, y_train, epochs=5, batch_size=128, validation_data=(x_test, y_test), verbose=2)\n",
        "\n",
        "# Evaluate\n",
        "ann_acc = ann.evaluate(x_test, y_test, verbose=0)[1]\n",
        "print(\" ANN Test Accuracy:\", ann_acc)\n",
        "\n",
        "\n",
        "#  CNN model\n",
        "\n",
        "cnn = Sequential([\n",
        "    Conv2D(32, (3,3), activation='relu', input_shape=(28, 28, 1)),\n",
        "    MaxPooling2D((2,2)),\n",
        "    Conv2D(64, (3,3), activation='relu'),\n",
        "    MaxPooling2D((2,2)),\n",
        "    Flatten(),\n",
        "    Dense(128, activation='relu'),\n",
        "    Dropout(0.5),\n",
        "    Dense(10, activation='softmax')\n",
        "])\n",
        "\n",
        "cnn.compile(optimizer='adam', loss='categorical_crossentropy', metrics=['accuracy'])\n",
        "\n",
        "# Train\n",
        "cnn.fit(x_train, y_train, epochs=5, batch_size=128, validation_data=(x_test, y_test), verbose=2)\n",
        "\n",
        "# Evaluate\n",
        "cnn_acc = cnn.evaluate(x_test, y_test, verbose=0)[1]\n",
        "print(\" CNN Test Accuracy:\", cnn_acc)\n",
        "\n",
        "\n",
        "# Compare Results\n",
        "\n",
        "print(\"\\n Final Comparison:\")\n",
        "print(f\"ANN Accuracy: {ann_acc:.4f}\")\n",
        "print(f\"CNN Accuracy: {cnn_acc:.4f}\")\n",
        "\n",
        "if cnn_acc > ann_acc:\n",
        "    print(\" CNN performs better on MNIST.\")\n",
        "else:\n",
        "    print(\" ANN performs better on MNIST (rare, but possible).\")"
      ],
      "metadata": {
        "colab": {
          "base_uri": "https://localhost:8080/"
        },
        "id": "b3RM98291rC-",
        "outputId": "0b19d7d8-234f-48ca-e3f7-68427b53be5a"
      },
      "execution_count": null,
      "outputs": [
        {
          "output_type": "stream",
          "name": "stdout",
          "text": [
            "Epoch 1/5\n",
            "469/469 - 4s - 8ms/step - accuracy: 0.9070 - loss: 0.3266 - val_accuracy: 0.9519 - val_loss: 0.1653\n",
            "Epoch 2/5\n",
            "469/469 - 2s - 5ms/step - accuracy: 0.9598 - loss: 0.1365 - val_accuracy: 0.9645 - val_loss: 0.1176\n",
            "Epoch 3/5\n",
            "469/469 - 3s - 6ms/step - accuracy: 0.9710 - loss: 0.0971 - val_accuracy: 0.9664 - val_loss: 0.1030\n",
            "Epoch 4/5\n",
            "469/469 - 3s - 6ms/step - accuracy: 0.9782 - loss: 0.0717 - val_accuracy: 0.9691 - val_loss: 0.0944\n",
            "Epoch 5/5\n",
            "469/469 - 2s - 5ms/step - accuracy: 0.9830 - loss: 0.0565 - val_accuracy: 0.9725 - val_loss: 0.0833\n",
            " ANN Test Accuracy: 0.9725000262260437\n",
            "Epoch 1/5\n",
            "469/469 - 50s - 106ms/step - accuracy: 0.9080 - loss: 0.3020 - val_accuracy: 0.9804 - val_loss: 0.0621\n",
            "Epoch 2/5\n",
            "469/469 - 45s - 96ms/step - accuracy: 0.9707 - loss: 0.0976 - val_accuracy: 0.9869 - val_loss: 0.0399\n",
            "Epoch 3/5\n",
            "469/469 - 46s - 98ms/step - accuracy: 0.9780 - loss: 0.0744 - val_accuracy: 0.9886 - val_loss: 0.0349\n",
            "Epoch 4/5\n",
            "469/469 - 45s - 96ms/step - accuracy: 0.9816 - loss: 0.0604 - val_accuracy: 0.9890 - val_loss: 0.0333\n",
            "Epoch 5/5\n",
            "469/469 - 82s - 176ms/step - accuracy: 0.9848 - loss: 0.0515 - val_accuracy: 0.9900 - val_loss: 0.0301\n",
            " CNN Test Accuracy: 0.9900000095367432\n",
            "\n",
            " Final Comparison:\n",
            "ANN Accuracy: 0.9725\n",
            "CNN Accuracy: 0.9900\n",
            " CNN performs better on MNIST.\n"
          ]
        }
      ]
    }
  ]
}